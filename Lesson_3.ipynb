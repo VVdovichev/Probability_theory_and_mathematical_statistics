{
  "nbformat": 4,
  "nbformat_minor": 0,
  "metadata": {
    "colab": {
      "name": "Lesson_3.ipynb",
      "provenance": [],
      "collapsed_sections": [],
      "authorship_tag": "ABX9TyMNdPWRfax/ocQ0zmb1LMZf",
      "include_colab_link": true
    },
    "kernelspec": {
      "name": "python3",
      "display_name": "Python 3"
    },
    "language_info": {
      "name": "python"
    }
  },
  "cells": [
    {
      "cell_type": "markdown",
      "metadata": {
        "id": "view-in-github",
        "colab_type": "text"
      },
      "source": [
        "<a href=\"https://colab.research.google.com/github/VVdovichev/Probability_theory_and_mathematical_statistics/blob/main/Lesson_3.ipynb\" target=\"_parent\"><img src=\"https://colab.research.google.com/assets/colab-badge.svg\" alt=\"Open In Colab\"/></a>"
      ]
    },
    {
      "cell_type": "code",
      "metadata": {
        "id": "-7Att2rWq2IJ"
      },
      "source": [
        "import numpy as np\n",
        "from math import factorial\n",
        "\n",
        "\n",
        "def combinations(n, k):\n",
        "    return int(factorial(n) / (factorial(k) * factorial(n - k)))"
      ],
      "execution_count": 1,
      "outputs": []
    },
    {
      "cell_type": "markdown",
      "metadata": {
        "id": "m8Xp-BlJq9Bm"
      },
      "source": [
        "1. Даны значения зарплат из выборки выпускников: 100, 80, 75, 77, 89, 33, 45, 25, 65, 17, 30, 24, 57, 55, 70, 75, 65, 84, 90, 150. Посчитать (желательно без использования статистических методов наподобие std, var, mean) среднее арифметическое, среднее квадратичное отклонение, смещенную и несмещенную оценки дисперсий для данной выборки."
      ]
    },
    {
      "cell_type": "code",
      "metadata": {
        "colab": {
          "base_uri": "https://localhost:8080/"
        },
        "id": "_FGO_l15r0Jd",
        "outputId": "07e18d17-102c-46e7-e9c3-e53471614690"
      },
      "source": [
        "nums = np.array([100, 80, 75, 77, 89, 33, 45, 25, 65, 17, 30, 24, 57, 55, 70, 75, 65, 84, 90, 150])\n",
        "# среднее арифметическое\n",
        "mean_nums = nums.sum() / nums.size\n",
        "mean_nums"
      ],
      "execution_count": 2,
      "outputs": [
        {
          "output_type": "execute_result",
          "data": {
            "text/plain": [
              "65.3"
            ]
          },
          "metadata": {},
          "execution_count": 2
        }
      ]
    },
    {
      "cell_type": "code",
      "metadata": {
        "colab": {
          "base_uri": "https://localhost:8080/"
        },
        "id": "NUtO4WwzGaPW",
        "outputId": "7ad410a9-6384-4bc0-954c-a0def110cb42"
      },
      "source": [
        "# среднее квадратичное отклонение\n",
        "std_nums = np.sqrt(((nums - mean_nums)**2).sum() / nums.size)\n",
        "std_nums"
      ],
      "execution_count": 3,
      "outputs": [
        {
          "output_type": "execute_result",
          "data": {
            "text/plain": [
              "30.823854398825596"
            ]
          },
          "metadata": {},
          "execution_count": 3
        }
      ]
    },
    {
      "cell_type": "code",
      "metadata": {
        "colab": {
          "base_uri": "https://localhost:8080/"
        },
        "id": "92xqePOSMxKa",
        "outputId": "fcb480f2-b51b-4a4d-8112-a5c32a4677a7"
      },
      "source": [
        "# смещённая оценка дисперсии\n",
        "var_nums1 = ((nums - mean_nums)**2).sum() / nums.size\n",
        "var_nums1"
      ],
      "execution_count": 4,
      "outputs": [
        {
          "output_type": "execute_result",
          "data": {
            "text/plain": [
              "950.11"
            ]
          },
          "metadata": {},
          "execution_count": 4
        }
      ]
    },
    {
      "cell_type": "code",
      "metadata": {
        "colab": {
          "base_uri": "https://localhost:8080/"
        },
        "id": "fegvpbuFNj1t",
        "outputId": "99d807fc-37a1-452c-d198-fbac4e6f427c"
      },
      "source": [
        "# несмещённая оценка дисперсии\n",
        "var_nums2 = ((nums - mean_nums)**2).sum() / nums.size - 1\n",
        "var_nums2"
      ],
      "execution_count": 5,
      "outputs": [
        {
          "output_type": "execute_result",
          "data": {
            "text/plain": [
              "949.11"
            ]
          },
          "metadata": {},
          "execution_count": 5
        }
      ]
    },
    {
      "cell_type": "markdown",
      "metadata": {
        "id": "-hHe4NvPN0jk"
      },
      "source": [
        "2. В первом ящике находится 8 мячей, из которых 5 - белые. Во втором ящике - 12 мячей, из которых 5 белых. Из первого ящика вытаскивают случайным образом два мяча, из второго - 4. Какова вероятность того, что 3 мяча белые?"
      ]
    },
    {
      "cell_type": "code",
      "metadata": {
        "colab": {
          "base_uri": "https://localhost:8080/"
        },
        "id": "tEkgxQHAN5Gi",
        "outputId": "8257f7b6-9aaf-49ba-c882-a7eadc17ecd9"
      },
      "source": [
        "#варианты: a) 2 из 2 белые и 1 из 4 белый, b) 1 из 2х белый и 2 из 4 белые, c)0 из 2х белые и 3 из 4 белые\n",
        "P1 = combinations(5, 2) / combinations(8, 2) * combinations(5, 1) * combinations(7, 3) / combinations(12, 4)\n",
        "P2 = combinations(5, 1) * combinations(3, 1) / combinations(8, 2) * combinations(5, 2) * combinations(7, 2) / combinations(12, 4)\n",
        "P3 = combinations(3, 2) / combinations(8, 2) * combinations(5, 3) * combinations(7, 1) / combinations(12, 4)\n",
        "P = P1 + P2 + P3\n",
        "P"
      ],
      "execution_count": 6,
      "outputs": [
        {
          "output_type": "execute_result",
          "data": {
            "text/plain": [
              "0.3686868686868686"
            ]
          },
          "metadata": {},
          "execution_count": 6
        }
      ]
    },
    {
      "cell_type": "markdown",
      "metadata": {
        "id": "D9d0IOPTUp1h"
      },
      "source": [
        "3. На соревновании по биатлону один из трех спортсменов стреляет и попадает в мишень. Вероятность попадания для первого спортсмена равна 0.9, для второго — 0.8, для третьего — 0.6. Найти вероятность того, что выстрел произведен: a). первым спортсменом б). вторым спортсменом в). третьим спортсменом."
      ]
    },
    {
      "cell_type": "code",
      "metadata": {
        "id": "w-M1rhCtUtds"
      },
      "source": [
        "P1 = 0.9\n",
        "P2 = 0.8\n",
        "P3 = 0.6"
      ],
      "execution_count": 7,
      "outputs": []
    },
    {
      "cell_type": "code",
      "metadata": {
        "colab": {
          "base_uri": "https://localhost:8080/"
        },
        "id": "0X2_Mt4hkBfp",
        "outputId": "d8a961fe-64d8-4d8d-fe39-c0b0f15c3e65"
      },
      "source": [
        "PA = 1/3 * (P1 + P2 + P3)\n",
        "\n",
        "\n",
        "# a) первым спортсменом\n",
        "P = P1 * 1/3 / PA\n",
        "P\n"
      ],
      "execution_count": 8,
      "outputs": [
        {
          "output_type": "execute_result",
          "data": {
            "text/plain": [
              "0.3913043478260869"
            ]
          },
          "metadata": {},
          "execution_count": 8
        }
      ]
    },
    {
      "cell_type": "code",
      "metadata": {
        "colab": {
          "base_uri": "https://localhost:8080/"
        },
        "id": "I1BVq_9FkOml",
        "outputId": "28a3f0ac-9e17-4a16-c919-a990b459bead"
      },
      "source": [
        "# б) вторым спортсменом\n",
        "P = P2 * 1/3 / PA\n",
        "P"
      ],
      "execution_count": 9,
      "outputs": [
        {
          "output_type": "execute_result",
          "data": {
            "text/plain": [
              "0.34782608695652173"
            ]
          },
          "metadata": {},
          "execution_count": 9
        }
      ]
    },
    {
      "cell_type": "code",
      "metadata": {
        "colab": {
          "base_uri": "https://localhost:8080/"
        },
        "id": "5mq_3IilkXpt",
        "outputId": "72d6cfe5-3012-4cf4-d8c9-2d1a88f34bfa"
      },
      "source": [
        "# в) третьим спортсменом\n",
        "P = P3 * 1/3 / PA\n",
        "P"
      ],
      "execution_count": 10,
      "outputs": [
        {
          "output_type": "execute_result",
          "data": {
            "text/plain": [
              "0.26086956521739124"
            ]
          },
          "metadata": {},
          "execution_count": 10
        }
      ]
    },
    {
      "cell_type": "markdown",
      "metadata": {
        "id": "905jhG2KktOG"
      },
      "source": [
        "4. В университет на факультеты A и B поступило равное количество студентов, а на факультет C студентов поступило столько же, сколько на A и B вместе. Вероятность того, что студент факультета A сдаст первую сессию, равна 0.8. Для студента факультета B эта вероятность равна 0.7, а для студента факультета C - 0.9. Студент сдал первую сессию. Какова вероятность, что он учится: a). на факультете A б). на факультете B в). на факультете C?"
      ]
    },
    {
      "cell_type": "code",
      "metadata": {
        "id": "cxfEQYQEkon4"
      },
      "source": [
        "# вероятность того что случайный студент из факультета A\n",
        "QA = 0.25\n",
        "# вероятность того что случайный студент из факультета B\n",
        "QB = 0.25\n",
        "# вероятность того что случайный студент из факультета B\n",
        "QC = 0.5"
      ],
      "execution_count": 11,
      "outputs": []
    },
    {
      "cell_type": "code",
      "metadata": {
        "id": "tIlh4E0ilL14"
      },
      "source": [
        "PA = 0.8\n",
        "PB = 0.7\n",
        "PC = 0.9"
      ],
      "execution_count": 12,
      "outputs": []
    },
    {
      "cell_type": "code",
      "metadata": {
        "colab": {
          "base_uri": "https://localhost:8080/"
        },
        "id": "CC-0Qw8nlU2j",
        "outputId": "9968125c-d354-4e13-a59d-d9cd4cffcb60"
      },
      "source": [
        "# доля сдавших студентов от общего количества поступивших\n",
        "P_total = PA * QA + PB * QB + PC * QC\n",
        "P"
      ],
      "execution_count": 13,
      "outputs": [
        {
          "output_type": "execute_result",
          "data": {
            "text/plain": [
              "0.26086956521739124"
            ]
          },
          "metadata": {},
          "execution_count": 13
        }
      ]
    },
    {
      "cell_type": "code",
      "metadata": {
        "colab": {
          "base_uri": "https://localhost:8080/"
        },
        "id": "N8ssFQDMlpSf",
        "outputId": "27634aeb-f8df-49e3-b6af-b2e940a85edc"
      },
      "source": [
        "# из факультета A\n",
        "P = PA * QA / P_total\n",
        "P"
      ],
      "execution_count": 14,
      "outputs": [
        {
          "output_type": "execute_result",
          "data": {
            "text/plain": [
              "0.24242424242424246"
            ]
          },
          "metadata": {},
          "execution_count": 14
        }
      ]
    },
    {
      "cell_type": "code",
      "metadata": {
        "colab": {
          "base_uri": "https://localhost:8080/"
        },
        "id": "sGwJ0ZCEmKAr",
        "outputId": "52fc58f2-88f6-4f70-d308-0e8b250f94fa"
      },
      "source": [
        "# из факультета B\n",
        "P = PB * QB / P_total\n",
        "P"
      ],
      "execution_count": 15,
      "outputs": [
        {
          "output_type": "execute_result",
          "data": {
            "text/plain": [
              "0.21212121212121213"
            ]
          },
          "metadata": {},
          "execution_count": 15
        }
      ]
    },
    {
      "cell_type": "code",
      "metadata": {
        "colab": {
          "base_uri": "https://localhost:8080/"
        },
        "id": "I462dXD7ma3x",
        "outputId": "4fe5a0a6-d3a8-4288-bf16-1b8c3863753a"
      },
      "source": [
        "# из факультета С\n",
        "P = PC * QC / P_total\n",
        "P"
      ],
      "execution_count": 16,
      "outputs": [
        {
          "output_type": "execute_result",
          "data": {
            "text/plain": [
              "0.5454545454545455"
            ]
          },
          "metadata": {},
          "execution_count": 16
        }
      ]
    },
    {
      "cell_type": "markdown",
      "metadata": {
        "id": "g_xpPxIXmn0f"
      },
      "source": [
        "5. Устройство состоит из трех деталей. Для первой детали вероятность выйти из строя в первый месяц равна 0.1, для второй - 0.2, для третьей - 0.25. Какова вероятность того, что в первый месяц выйдут из строя: а). все детали б). только две детали в). хотя бы одна деталь г). от одной до двух деталей?"
      ]
    },
    {
      "cell_type": "code",
      "metadata": {
        "id": "20TP0kupmrdO"
      },
      "source": [
        "P1 = 0.1\n",
        "P2 = 0.2\n",
        "P3 = 0.25\n",
        "Q1 = 1 - P1\n",
        "Q2 = 1 - P2\n",
        "Q3 = 1 - P3"
      ],
      "execution_count": 17,
      "outputs": []
    },
    {
      "cell_type": "code",
      "metadata": {
        "colab": {
          "base_uri": "https://localhost:8080/"
        },
        "id": "tRq4BLzqnREW",
        "outputId": "b6af3cb7-5b45-4e6e-a403-ac63325df7fc"
      },
      "source": [
        "# а) все детали\n",
        "P  = Q1 * Q2 * Q3 \n",
        "P"
      ],
      "execution_count": 18,
      "outputs": [
        {
          "output_type": "execute_result",
          "data": {
            "text/plain": [
              "0.54"
            ]
          },
          "metadata": {},
          "execution_count": 18
        }
      ]
    },
    {
      "cell_type": "code",
      "metadata": {
        "colab": {
          "base_uri": "https://localhost:8080/"
        },
        "id": "CaDJAmqZnbNk",
        "outputId": "e214aa5f-ccfb-4197-e8d0-d88508696891"
      },
      "source": [
        "# б) только две детали\n",
        "P1_2 = P1 * P2 * Q3\n",
        "P1_3 = P1 * Q2 * P3\n",
        "P2_3 = Q1 * P2 * P3\n",
        "P_2 = P1_2 + P1_3 + P2_3\n",
        "P"
      ],
      "execution_count": 19,
      "outputs": [
        {
          "output_type": "execute_result",
          "data": {
            "text/plain": [
              "0.54"
            ]
          },
          "metadata": {},
          "execution_count": 19
        }
      ]
    },
    {
      "cell_type": "code",
      "metadata": {
        "colab": {
          "base_uri": "https://localhost:8080/"
        },
        "id": "9t8Sjq3HoMvp",
        "outputId": "5466557b-84a4-469b-c8ed-37b7ef39021e"
      },
      "source": [
        "# в) хотя бы одна деталь\n",
        "# ищем вероятность что не выйдет ни одна деталь\n",
        "P_total = Q1 * Q2 * Q3\n",
        "P = 1 - P_total\n",
        "P"
      ],
      "execution_count": 20,
      "outputs": [
        {
          "output_type": "execute_result",
          "data": {
            "text/plain": [
              "0.45999999999999996"
            ]
          },
          "metadata": {},
          "execution_count": 20
        }
      ]
    },
    {
      "cell_type": "code",
      "metadata": {
        "colab": {
          "base_uri": "https://localhost:8080/"
        },
        "id": "PIwyjD2ZqdUj",
        "outputId": "f98711f7-7b96-4d27-cc13-68d820b65abb"
      },
      "source": [
        "# г) от одной до двух деталей\n",
        "P1 = P1 * Q2 * Q3\n",
        "P2 = Q1 * P2 * Q3\n",
        "P3 = Q1 * Q2 * P3\n",
        "P = P1 + P2 + P3 + P_2\n",
        "P"
      ],
      "execution_count": 21,
      "outputs": [
        {
          "output_type": "execute_result",
          "data": {
            "text/plain": [
              "0.455"
            ]
          },
          "metadata": {},
          "execution_count": 21
        }
      ]
    }
  ]
}