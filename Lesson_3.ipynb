{
  "nbformat": 4,
  "nbformat_minor": 0,
  "metadata": {
    "colab": {
      "name": "Lesson_3.ipynb",
      "provenance": [],
      "collapsed_sections": [],
      "authorship_tag": "ABX9TyN33DHsHW5tIVz9CQIx8XXM",
      "include_colab_link": true
    },
    "kernelspec": {
      "name": "python3",
      "display_name": "Python 3"
    },
    "language_info": {
      "name": "python"
    }
  },
  "cells": [
    {
      "cell_type": "markdown",
      "metadata": {
        "id": "view-in-github",
        "colab_type": "text"
      },
      "source": [
        "<a href=\"https://colab.research.google.com/github/VVdovichev/Probability_theory_and_mathematical_statistics/blob/main/Lesson_3.ipynb\" target=\"_parent\"><img src=\"https://colab.research.google.com/assets/colab-badge.svg\" alt=\"Open In Colab\"/></a>"
      ]
    },
    {
      "cell_type": "code",
      "metadata": {
        "id": "-7Att2rWq2IJ"
      },
      "source": [
        "import numpy as np\n",
        "from math import factorial\n",
        "\n",
        "\n",
        "def combinations(n, k):\n",
        "    return int(factorial(n) / (factorial(k) * factorial(n - k)))"
      ],
      "execution_count": 90,
      "outputs": []
    },
    {
      "cell_type": "markdown",
      "metadata": {
        "id": "m8Xp-BlJq9Bm"
      },
      "source": [
        "1. Даны значения зарплат из выборки выпускников: 100, 80, 75, 77, 89, 33, 45, 25, 65, 17, 30, 24, 57, 55, 70, 75, 65, 84, 90, 150. Посчитать (желательно без использования статистических методов наподобие std, var, mean) среднее арифметическое, среднее квадратичное отклонение, смещенную и несмещенную оценки дисперсий для данной выборки."
      ]
    },
    {
      "cell_type": "code",
      "metadata": {
        "colab": {
          "base_uri": "https://localhost:8080/"
        },
        "id": "_FGO_l15r0Jd",
        "outputId": "77c0c107-a94f-430b-ab1a-93d66c99e294"
      },
      "source": [
        "nums = np.array([100, 80, 75, 77, 89, 33, 45, 25, 65, 17, 30, 24, 57, 55, 70, 75, 65, 84, 90, 150])\n",
        "# среднее арифметическое\n",
        "mean_nums = nums.sum() / nums.size\n",
        "mean_nums"
      ],
      "execution_count": 91,
      "outputs": [
        {
          "output_type": "execute_result",
          "data": {
            "text/plain": [
              "65.3"
            ]
          },
          "metadata": {},
          "execution_count": 91
        }
      ]
    },
    {
      "cell_type": "code",
      "metadata": {
        "colab": {
          "base_uri": "https://localhost:8080/"
        },
        "id": "NUtO4WwzGaPW",
        "outputId": "682a7e3d-58b7-451d-a809-219537da3ed0"
      },
      "source": [
        "# среднее квадратичное отклонение\n",
        "std_nums = np.sqrt(((nums - mean_nums)**2).sum() / nums.size)\n",
        "std_nums"
      ],
      "execution_count": 92,
      "outputs": [
        {
          "output_type": "execute_result",
          "data": {
            "text/plain": [
              "30.823854398825596"
            ]
          },
          "metadata": {},
          "execution_count": 92
        }
      ]
    },
    {
      "cell_type": "code",
      "metadata": {
        "colab": {
          "base_uri": "https://localhost:8080/"
        },
        "id": "92xqePOSMxKa",
        "outputId": "d2367d09-f333-4d87-b78c-48578528c280"
      },
      "source": [
        "# смещённая оценка дисперсии\n",
        "var_nums1 = ((nums - mean_nums)**2).sum() / nums.size\n",
        "var_nums1"
      ],
      "execution_count": 93,
      "outputs": [
        {
          "output_type": "execute_result",
          "data": {
            "text/plain": [
              "950.11"
            ]
          },
          "metadata": {},
          "execution_count": 93
        }
      ]
    },
    {
      "cell_type": "code",
      "metadata": {
        "colab": {
          "base_uri": "https://localhost:8080/"
        },
        "id": "fegvpbuFNj1t",
        "outputId": "1a489f1d-9232-4ecd-9af1-25a996b19746"
      },
      "source": [
        "# несмещённая оценка дисперсии\n",
        "var_nums2 = ((nums - mean_nums)**2).sum() / nums.size - 1\n",
        "var_nums2"
      ],
      "execution_count": 94,
      "outputs": [
        {
          "output_type": "execute_result",
          "data": {
            "text/plain": [
              "949.11"
            ]
          },
          "metadata": {},
          "execution_count": 94
        }
      ]
    },
    {
      "cell_type": "markdown",
      "metadata": {
        "id": "-hHe4NvPN0jk"
      },
      "source": [
        "2. В первом ящике находится 8 мячей, из которых 5 - белые. Во втором ящике - 12 мячей, из которых 5 белых. Из первого ящика вытаскивают случайным образом два мяча, из второго - 4. Какова вероятность того, что 3 мяча белые?"
      ]
    },
    {
      "cell_type": "code",
      "metadata": {
        "colab": {
          "base_uri": "https://localhost:8080/"
        },
        "id": "tEkgxQHAN5Gi",
        "outputId": "d36c5786-d8d7-43c1-8131-b8264f2d7e48"
      },
      "source": [
        "#варианты: a) 2 из 2 белые и 1 из 4 белый, b) 1 из 2х белый и 2 из 4 белые, c)0 из 2х белые и 3 из 4 белые\n",
        "P1 = combinations(5, 2) / combinations(8, 2) * combinations(5, 1) * combinations(7, 3) / combinations(12, 4)\n",
        "P2 = combinations(5, 1) * combinations(3, 1) / combinations(8, 2) * combinations(5, 2) * combinations(7, 2) / combinations(12, 4)\n",
        "P3 = combinations(3, 2) / combinations(8, 2) * combinations(5, 3) * combinations(7, 1) / combinations(12, 4)\n",
        "P = P1 + P2 + P3\n",
        "P"
      ],
      "execution_count": 95,
      "outputs": [
        {
          "output_type": "execute_result",
          "data": {
            "text/plain": [
              "0.3686868686868686"
            ]
          },
          "metadata": {},
          "execution_count": 95
        }
      ]
    },
    {
      "cell_type": "markdown",
      "metadata": {
        "id": "D9d0IOPTUp1h"
      },
      "source": [
        "3. На соревновании по биатлону один из трех спортсменов стреляет и попадает в мишень. Вероятность попадания для первого спортсмена равна 0.9, для второго — 0.8, для третьего — 0.6. Найти вероятность того, что выстрел произведен: a). первым спортсменом б). вторым спортсменом в). третьим спортсменом."
      ]
    },
    {
      "cell_type": "code",
      "metadata": {
        "id": "w-M1rhCtUtds"
      },
      "source": [
        "P1 = 0.9\n",
        "P2 = 0.8\n",
        "P3 = 0.6\n",
        "Q1 = 1 - P1\n",
        "Q2 = 1 - P2\n",
        "Q3 = 1 - P3"
      ],
      "execution_count": 96,
      "outputs": []
    },
    {
      "cell_type": "code",
      "metadata": {
        "colab": {
          "base_uri": "https://localhost:8080/"
        },
        "id": "0X2_Mt4hkBfp",
        "outputId": "5816ca95-d06b-44d6-a67e-e64ba98f7931"
      },
      "source": [
        "# a) первым спортсменом\n",
        "P = P1 * Q2 * Q3\n",
        "P\n"
      ],
      "execution_count": 97,
      "outputs": [
        {
          "output_type": "execute_result",
          "data": {
            "text/plain": [
              "0.072"
            ]
          },
          "metadata": {},
          "execution_count": 97
        }
      ]
    },
    {
      "cell_type": "code",
      "metadata": {
        "colab": {
          "base_uri": "https://localhost:8080/"
        },
        "id": "I1BVq_9FkOml",
        "outputId": "7b6a58da-7ed1-41d5-a968-59726bf8667d"
      },
      "source": [
        "# б) вторым спортсменом\n",
        "P = Q1 * P2 * Q3\n",
        "P"
      ],
      "execution_count": 98,
      "outputs": [
        {
          "output_type": "execute_result",
          "data": {
            "text/plain": [
              "0.031999999999999994"
            ]
          },
          "metadata": {},
          "execution_count": 98
        }
      ]
    },
    {
      "cell_type": "code",
      "metadata": {
        "colab": {
          "base_uri": "https://localhost:8080/"
        },
        "id": "5mq_3IilkXpt",
        "outputId": "dd0e8847-5ee2-4ce4-a8f4-4e7168e1469d"
      },
      "source": [
        "# в) третьим спортсменом\n",
        "P = Q1 *Q2 * P3\n",
        "P"
      ],
      "execution_count": 99,
      "outputs": [
        {
          "output_type": "execute_result",
          "data": {
            "text/plain": [
              "0.011999999999999993"
            ]
          },
          "metadata": {},
          "execution_count": 99
        }
      ]
    },
    {
      "cell_type": "markdown",
      "metadata": {
        "id": "905jhG2KktOG"
      },
      "source": [
        "4. В университет на факультеты A и B поступило равное количество студентов, а на факультет C студентов поступило столько же, сколько на A и B вместе. Вероятность того, что студент факультета A сдаст первую сессию, равна 0.8. Для студента факультета B эта вероятность равна 0.7, а для студента факультета C - 0.9. Студент сдал первую сессию. Какова вероятность, что он учится: a). на факультете A б). на факультете B в). на факультете C?"
      ]
    },
    {
      "cell_type": "code",
      "metadata": {
        "id": "cxfEQYQEkon4"
      },
      "source": [
        "# вероятность того что случайный студент из факультета A\n",
        "QA = 0.25\n",
        "# вероятность того что случайный студент из факультета B\n",
        "QB = 0.25\n",
        "# вероятность того что случайный студент из факультета B\n",
        "QC = 0.5"
      ],
      "execution_count": 100,
      "outputs": []
    },
    {
      "cell_type": "code",
      "metadata": {
        "id": "tIlh4E0ilL14"
      },
      "source": [
        "PA = 0.8\n",
        "PB = 0.7\n",
        "PC = 0.9"
      ],
      "execution_count": 101,
      "outputs": []
    },
    {
      "cell_type": "code",
      "metadata": {
        "colab": {
          "base_uri": "https://localhost:8080/"
        },
        "id": "CC-0Qw8nlU2j",
        "outputId": "639e74b2-c93e-4019-b5f4-e18f0c2ff87d"
      },
      "source": [
        "# доля сдавших студентов от общего количества поступивших\n",
        "P_total = PA * QA + PB * QB + PC * QC\n",
        "P"
      ],
      "execution_count": 102,
      "outputs": [
        {
          "output_type": "execute_result",
          "data": {
            "text/plain": [
              "0.011999999999999993"
            ]
          },
          "metadata": {},
          "execution_count": 102
        }
      ]
    },
    {
      "cell_type": "code",
      "metadata": {
        "colab": {
          "base_uri": "https://localhost:8080/"
        },
        "id": "N8ssFQDMlpSf",
        "outputId": "59f269f5-54fa-4352-adad-44e7736f3b6a"
      },
      "source": [
        "# из факультета A\n",
        "P = PA * QA / P_total\n",
        "P"
      ],
      "execution_count": 103,
      "outputs": [
        {
          "output_type": "execute_result",
          "data": {
            "text/plain": [
              "0.24242424242424246"
            ]
          },
          "metadata": {},
          "execution_count": 103
        }
      ]
    },
    {
      "cell_type": "code",
      "metadata": {
        "colab": {
          "base_uri": "https://localhost:8080/"
        },
        "id": "sGwJ0ZCEmKAr",
        "outputId": "2b8c0c6b-9829-4eef-bb3e-8cad53cfdbe8"
      },
      "source": [
        "# из факультета B\n",
        "P = PB * QB / P_total\n",
        "P"
      ],
      "execution_count": 104,
      "outputs": [
        {
          "output_type": "execute_result",
          "data": {
            "text/plain": [
              "0.21212121212121213"
            ]
          },
          "metadata": {},
          "execution_count": 104
        }
      ]
    },
    {
      "cell_type": "code",
      "metadata": {
        "colab": {
          "base_uri": "https://localhost:8080/"
        },
        "id": "I462dXD7ma3x",
        "outputId": "83abfe68-7e43-488e-81c4-e01054561f36"
      },
      "source": [
        "# из факультета С\n",
        "P = PC * QC / P_total\n",
        "P"
      ],
      "execution_count": 105,
      "outputs": [
        {
          "output_type": "execute_result",
          "data": {
            "text/plain": [
              "0.5454545454545455"
            ]
          },
          "metadata": {},
          "execution_count": 105
        }
      ]
    },
    {
      "cell_type": "markdown",
      "metadata": {
        "id": "g_xpPxIXmn0f"
      },
      "source": [
        "5. Устройство состоит из трех деталей. Для первой детали вероятность выйти из строя в первый месяц равна 0.1, для второй - 0.2, для третьей - 0.25. Какова вероятность того, что в первый месяц выйдут из строя: а). все детали б). только две детали в). хотя бы одна деталь г). от одной до двух деталей?"
      ]
    },
    {
      "cell_type": "code",
      "metadata": {
        "id": "20TP0kupmrdO"
      },
      "source": [
        "P1 = 0.1\n",
        "P2 = 0.2\n",
        "P3 = 0.25\n",
        "Q1 = 1 - P1\n",
        "Q2 = 1 - P2\n",
        "Q3 = 1 - P3"
      ],
      "execution_count": 106,
      "outputs": []
    },
    {
      "cell_type": "code",
      "metadata": {
        "colab": {
          "base_uri": "https://localhost:8080/"
        },
        "id": "tRq4BLzqnREW",
        "outputId": "ae4b9371-4a7f-47a4-d17f-0a6a017078e0"
      },
      "source": [
        "# а) все детали\n",
        "P  = Q1 * Q2 * Q3 \n",
        "P"
      ],
      "execution_count": 107,
      "outputs": [
        {
          "output_type": "execute_result",
          "data": {
            "text/plain": [
              "0.54"
            ]
          },
          "metadata": {},
          "execution_count": 107
        }
      ]
    },
    {
      "cell_type": "code",
      "metadata": {
        "colab": {
          "base_uri": "https://localhost:8080/"
        },
        "id": "CaDJAmqZnbNk",
        "outputId": "e6e4cfbe-7f36-475f-e586-ba3134e5f3a6"
      },
      "source": [
        "# б) только две детали\n",
        "P1_2 = P1 * P2 * Q3\n",
        "P1_3 = P1 * Q2 * P3\n",
        "P2_3 = Q1 * P2 * P3\n",
        "P_2 = P1_2 + P1_3 + P2_3\n",
        "P"
      ],
      "execution_count": 108,
      "outputs": [
        {
          "output_type": "execute_result",
          "data": {
            "text/plain": [
              "0.54"
            ]
          },
          "metadata": {},
          "execution_count": 108
        }
      ]
    },
    {
      "cell_type": "code",
      "metadata": {
        "colab": {
          "base_uri": "https://localhost:8080/"
        },
        "id": "9t8Sjq3HoMvp",
        "outputId": "fef40849-1601-454f-badc-0661478276c5"
      },
      "source": [
        "# в) хотя бы одна деталь\n",
        "# ищем вероятность что не выйдет ни одна деталь\n",
        "P_total = Q1 * Q2 * Q3\n",
        "P = 1 - P_total\n",
        "P"
      ],
      "execution_count": 109,
      "outputs": [
        {
          "output_type": "execute_result",
          "data": {
            "text/plain": [
              "0.45999999999999996"
            ]
          },
          "metadata": {},
          "execution_count": 109
        }
      ]
    },
    {
      "cell_type": "code",
      "metadata": {
        "colab": {
          "base_uri": "https://localhost:8080/"
        },
        "id": "PIwyjD2ZqdUj",
        "outputId": "04ae96d0-6030-4b49-948d-d35eb9552771"
      },
      "source": [
        "# г) от одной до двух деталей\n",
        "P1 = P1 * Q2 * Q3\n",
        "P2 = Q1 * P2 * Q3\n",
        "P3 = Q1 * Q2 * P3\n",
        "P = P1 + P2 + P3 + P_2\n",
        "P"
      ],
      "execution_count": 110,
      "outputs": [
        {
          "output_type": "execute_result",
          "data": {
            "text/plain": [
              "0.455"
            ]
          },
          "metadata": {},
          "execution_count": 110
        }
      ]
    }
  ]
}