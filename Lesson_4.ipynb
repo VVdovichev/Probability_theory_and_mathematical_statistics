{
  "nbformat": 4,
  "nbformat_minor": 0,
  "metadata": {
    "colab": {
      "name": "Lesson_4.ipynb",
      "provenance": [],
      "authorship_tag": "ABX9TyMVRaCqrlI6pYZz6uufFle5",
      "include_colab_link": true
    },
    "kernelspec": {
      "name": "python3",
      "display_name": "Python 3"
    },
    "language_info": {
      "name": "python"
    }
  },
  "cells": [
    {
      "cell_type": "markdown",
      "metadata": {
        "id": "view-in-github",
        "colab_type": "text"
      },
      "source": [
        "<a href=\"https://colab.research.google.com/github/VVdovichev/Probability_theory_and_mathematical_statistics/blob/main/Lesson_4.ipynb\" target=\"_parent\"><img src=\"https://colab.research.google.com/assets/colab-badge.svg\" alt=\"Open In Colab\"/></a>"
      ]
    },
    {
      "cell_type": "code",
      "metadata": {
        "id": "mgs5GtslfcIP"
      },
      "source": [
        "import math"
      ],
      "execution_count": 104,
      "outputs": []
    },
    {
      "cell_type": "markdown",
      "metadata": {
        "id": "ggviwh0RLT17"
      },
      "source": [
        "1. Случайная непрерывная величина A имеет равномерное распределение на промежутке (200, 800].\n",
        "Найдите ее среднее значение и дисперсию."
      ]
    },
    {
      "cell_type": "code",
      "metadata": {
        "colab": {
          "base_uri": "https://localhost:8080/"
        },
        "id": "CMjwp4auLefp",
        "outputId": "bd04d82b-c2c3-43ec-a079-79fc4b3bb11e"
      },
      "source": [
        "# Среднее значение\n",
        "MX = (200 + 800) / 2\n",
        "MX"
      ],
      "execution_count": 105,
      "outputs": [
        {
          "output_type": "execute_result",
          "data": {
            "text/plain": [
              "500.0"
            ]
          },
          "metadata": {},
          "execution_count": 105
        }
      ]
    },
    {
      "cell_type": "code",
      "metadata": {
        "colab": {
          "base_uri": "https://localhost:8080/"
        },
        "id": "89zc9YCwNTwr",
        "outputId": "be88a31b-30ff-439a-d0d9-230b3b1c52ca"
      },
      "source": [
        "# Дисперсия\n",
        "DX = (800 - 200) ** 2 / 12\n",
        "DX"
      ],
      "execution_count": 106,
      "outputs": [
        {
          "output_type": "execute_result",
          "data": {
            "text/plain": [
              "30000.0"
            ]
          },
          "metadata": {},
          "execution_count": 106
        }
      ]
    },
    {
      "cell_type": "markdown",
      "metadata": {
        "id": "03UT6spQNjeF"
      },
      "source": [
        "2. О случайной непрерывной равномерно распределенной величине B известно, что ее дисперсия равна 0.2.\n",
        "Можно ли найти правую границу величины B и ее среднее значение зная, что левая граница равна 0.5?\n",
        "Если да, найдите ее."
      ]
    },
    {
      "cell_type": "code",
      "metadata": {
        "colab": {
          "base_uri": "https://localhost:8080/"
        },
        "id": "JIP5-zWMNjJV",
        "outputId": "72a84855-5c80-417e-8115-4b2aad153c58"
      },
      "source": [
        "# правая граница\n",
        "a = 0.5\n",
        "DX = 0.2\n",
        "b = math.sqrt(12 * 0.2) + 0.5\n",
        "b"
      ],
      "execution_count": 107,
      "outputs": [
        {
          "output_type": "execute_result",
          "data": {
            "text/plain": [
              "2.049193338482967"
            ]
          },
          "metadata": {},
          "execution_count": 107
        }
      ]
    },
    {
      "cell_type": "code",
      "metadata": {
        "colab": {
          "base_uri": "https://localhost:8080/"
        },
        "id": "evRK1H26fz-j",
        "outputId": "6b90cd24-f1bc-455b-fcdc-944fda161940"
      },
      "source": [
        "MX = (b + a) / 2\n",
        "MX"
      ],
      "execution_count": 108,
      "outputs": [
        {
          "output_type": "execute_result",
          "data": {
            "text/plain": [
              "1.2745966692414834"
            ]
          },
          "metadata": {},
          "execution_count": 108
        }
      ]
    },
    {
      "cell_type": "markdown",
      "metadata": {
        "id": "qSwKMMdeVOjh"
      },
      "source": [
        "3. Непрерывная случайная величина X распределена нормально и задана плотностью распределения\n",
        "f(x) = (1 / (4 * sqrt(2*pi))) * (exp(-(x+2)**2) / 32).\n",
        "Найдите:\n",
        "а). M(X)\n",
        "б). D(X)\n",
        "в). std(X) (среднее квадратичное отклонение)"
      ]
    },
    {
      "cell_type": "markdown",
      "metadata": {
        "id": "STwpwMCpVSfZ"
      },
      "source": [
        "\n",
        "\n",
        "*   M(X) = -2\n",
        "*   D(X) = 16\n",
        "*   std(X) = 4\n",
        "\n"
      ]
    },
    {
      "cell_type": "markdown",
      "metadata": {
        "id": "cTrA6q1-V_Hw"
      },
      "source": [
        "4. Рост взрослого населения города X имеет нормальное распределение.\n",
        "Причем, средний рост равен 174 см, а среднее квадратичное отклонение равно 8 см.\n",
        "Какова вероятность того, что случайным образом выбранный взрослый человек имеет рост:\n",
        "а). больше 182 см\n",
        "б). больше 190 см\n",
        "в). от 166 см до 190 см\n",
        "г). от 166 см до 182 см\n",
        "д). от 158 см до 190 см\n",
        "е). не выше 150 см или не ниже 190 см\n",
        "ё). не выше 150 см или не ниже 198 см\n",
        "ж). ниже 166 см."
      ]
    },
    {
      "cell_type": "markdown",
      "metadata": {
        "id": "aUXCJtvvkWJd"
      },
      "source": [
        "5. На сколько сигм (средних квадратичных отклонений) отклоняется рост человека, равный 190 см, от\n",
        "математического ожидания роста в популяции, в которой M(X) = 178 см и D(X) = 25 кв.см?"
      ]
    },
    {
      "cell_type": "markdown",
      "metadata": {
        "id": "c6CYkB47PEbS"
      },
      "source": [
        "\n",
        "\n",
        "*   a) 15.87 %\n",
        "*   б) 2.28 %\n",
        "*   в) 81,85 %\n",
        "*   г) 68,26 %\n",
        "*   д) 95,44 %\n",
        "*   е) 2,41 %\n",
        "*   ё) 0,26 %\n",
        "*   ж) 15,87 %\n",
        "\n",
        "\n",
        "\n",
        "\n",
        "\n",
        "\n",
        "\n"
      ]
    },
    {
      "cell_type": "code",
      "metadata": {
        "colab": {
          "base_uri": "https://localhost:8080/"
        },
        "id": "eqj7wZLAkXIo",
        "outputId": "3ef3b9b3-140e-40a7-e5ba-1ebe2f19f3c8"
      },
      "source": [
        "MX = 178\n",
        "DX = 25\n",
        "Z = (190 - MX) / sqrt(DX)\n",
        "Z"
      ],
      "execution_count": 109,
      "outputs": [
        {
          "output_type": "execute_result",
          "data": {
            "text/plain": [
              "2.4"
            ]
          },
          "metadata": {},
          "execution_count": 109
        }
      ]
    }
  ]
}