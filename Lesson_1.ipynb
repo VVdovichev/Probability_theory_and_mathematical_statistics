{
  "nbformat": 4,
  "nbformat_minor": 0,
  "metadata": {
    "colab": {
      "name": "Lesson_1.ipynb",
      "provenance": [],
      "collapsed_sections": [],
      "authorship_tag": "ABX9TyNNUozSMcs5/fbx1nMuTgJG",
      "include_colab_link": true
    },
    "kernelspec": {
      "name": "python3",
      "display_name": "Python 3"
    },
    "language_info": {
      "name": "python"
    }
  },
  "cells": [
    {
      "cell_type": "markdown",
      "metadata": {
        "id": "view-in-github",
        "colab_type": "text"
      },
      "source": [
        "<a href=\"https://colab.research.google.com/github/VVdovichev/Probability_theory_and_mathematical_statistics/blob/main/Lesson_1.ipynb\" target=\"_parent\"><img src=\"https://colab.research.google.com/assets/colab-badge.svg\" alt=\"Open In Colab\"/></a>"
      ]
    },
    {
      "cell_type": "code",
      "metadata": {
        "id": "pqvsJ_k4T0jU"
      },
      "source": [
        "from math import factorial"
      ],
      "execution_count": 1,
      "outputs": []
    },
    {
      "cell_type": "code",
      "metadata": {
        "id": "hmsA40icUxaV"
      },
      "source": [
        "def combinations(n, k):\n",
        "    return int(factorial(n) / (factorial(k) * factorial(n - k)))"
      ],
      "execution_count": 2,
      "outputs": []
    },
    {
      "cell_type": "markdown",
      "metadata": {
        "id": "arr0fI1mT270"
      },
      "source": [
        "1. Из колоды в 52 карты извлекаются случайным образом 4 карты. \n",
        "*   a) Найти вероятность того, что все карты – крести. \n",
        "*   б) Найти вероятность, что среди 4-х карт окажется хотя бы один туз.\n",
        "\n"
      ]
    },
    {
      "cell_type": "code",
      "metadata": {
        "colab": {
          "base_uri": "https://localhost:8080/"
        },
        "id": "hFdD6z6WT_X2",
        "outputId": "f6e06889-3164-45c2-ff0f-e7a12f355d16"
      },
      "source": [
        "#а)\n",
        "n = combinations(13, 4)\n",
        "print(n)\n",
        "m = combinations(52, 4)\n",
        "print(m)\n",
        "P = n / m\n",
        "print(P)"
      ],
      "execution_count": 3,
      "outputs": [
        {
          "output_type": "stream",
          "name": "stdout",
          "text": [
            "715\n",
            "270725\n",
            "0.0026410564225690276\n"
          ]
        }
      ]
    },
    {
      "cell_type": "code",
      "metadata": {
        "colab": {
          "base_uri": "https://localhost:8080/"
        },
        "id": "hAqMZIEBjS8E",
        "outputId": "a61e99f4-10fb-4f3d-cc96-8853889d24ae"
      },
      "source": [
        "#б)\n",
        "n = combinations(48, 4)\n",
        "print(n)\n",
        "m = combinations(52, 4)\n",
        "print(m)\n",
        "x = m - n\n",
        "P = x / m\n",
        "print(P)"
      ],
      "execution_count": 4,
      "outputs": [
        {
          "output_type": "stream",
          "name": "stdout",
          "text": [
            "194580\n",
            "270725\n",
            "0.2812632745405855\n"
          ]
        }
      ]
    },
    {
      "cell_type": "markdown",
      "metadata": {
        "id": "EducAgjZlA5l"
      },
      "source": [
        "2. На входной двери подъезда установлен кодовый замок, содержащий десять кнопок с цифрами от 0 до 9. Код содержит три цифры, которые нужно нажать одновременно. Какова вероятность того, что человек, не знающий код, откроет дверь с первой попытки?"
      ]
    },
    {
      "cell_type": "code",
      "metadata": {
        "colab": {
          "base_uri": "https://localhost:8080/"
        },
        "id": "zlXAJ2LhlLLi",
        "outputId": "29874fd0-2389-437b-81dc-506382cb0134"
      },
      "source": [
        "m = combinations(10, 3)\n",
        "n = 1\n",
        "print(m)\n",
        "P = n / m\n",
        "print(P)"
      ],
      "execution_count": 5,
      "outputs": [
        {
          "output_type": "stream",
          "name": "stdout",
          "text": [
            "120\n",
            "0.008333333333333333\n"
          ]
        }
      ]
    },
    {
      "cell_type": "markdown",
      "metadata": {
        "id": "nwfcplYnmAkQ"
      },
      "source": [
        "3. В ящике имеется 15 деталей, из которых 9 окрашены. Рабочий случайным образом извлекает 3 детали. Какова вероятность того, что все извлеченные детали окрашены?"
      ]
    },
    {
      "cell_type": "code",
      "metadata": {
        "colab": {
          "base_uri": "https://localhost:8080/"
        },
        "id": "LF2TRjqgmNEo",
        "outputId": "03755913-35c0-4265-c235-fa9a4f9632cb"
      },
      "source": [
        "n = combinations(9, 3)\n",
        "print(n)\n",
        "m = combinations(15, 3)\n",
        "print(m)\n",
        "P = n / m\n",
        "print(P)"
      ],
      "execution_count": 6,
      "outputs": [
        {
          "output_type": "stream",
          "name": "stdout",
          "text": [
            "84\n",
            "455\n",
            "0.18461538461538463\n"
          ]
        }
      ]
    },
    {
      "cell_type": "markdown",
      "metadata": {
        "id": "QaT2rSoOnD7o"
      },
      "source": [
        "4. В лотерее 100 билетов. Из них 2 выигрышных. Какова вероятность того, что 2 приобретенных билета окажутся выигрышными?"
      ]
    },
    {
      "cell_type": "code",
      "metadata": {
        "colab": {
          "base_uri": "https://localhost:8080/"
        },
        "id": "XSyQ1eRenFqo",
        "outputId": "25b56068-2001-4a67-ec51-502be99a9790"
      },
      "source": [
        "n = combinations(2, 2)\n",
        "print(n)\n",
        "m = combinations(100, 2)\n",
        "print(m)\n",
        "P = n / m\n",
        "print(P)"
      ],
      "execution_count": 7,
      "outputs": [
        {
          "output_type": "stream",
          "name": "stdout",
          "text": [
            "1\n",
            "4950\n",
            "0.00020202020202020202\n"
          ]
        }
      ]
    }
  ]
}