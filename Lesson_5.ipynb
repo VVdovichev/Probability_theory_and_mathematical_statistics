{
  "nbformat": 4,
  "nbformat_minor": 0,
  "metadata": {
    "colab": {
      "name": "Lesson_5.ipynb",
      "provenance": [],
      "collapsed_sections": [],
      "authorship_tag": "ABX9TyMEUSp1xtIJIEXOaTOdj1z7",
      "include_colab_link": true
    },
    "kernelspec": {
      "name": "python3",
      "display_name": "Python 3"
    },
    "language_info": {
      "name": "python"
    }
  },
  "cells": [
    {
      "cell_type": "markdown",
      "metadata": {
        "id": "view-in-github",
        "colab_type": "text"
      },
      "source": [
        "<a href=\"https://colab.research.google.com/github/VVdovichev/Probability_theory_and_mathematical_statistics/blob/main/Lesson_5.ipynb\" target=\"_parent\"><img src=\"https://colab.research.google.com/assets/colab-badge.svg\" alt=\"Open In Colab\"/></a>"
      ]
    },
    {
      "cell_type": "code",
      "metadata": {
        "id": "CcJ69c84H5sa"
      },
      "source": [
        "import numpy as np\n",
        "import math\n",
        "from scipy.stats import (norm, t)"
      ],
      "execution_count": 8,
      "outputs": []
    },
    {
      "cell_type": "markdown",
      "metadata": {
        "id": "Ft7525slHaZu"
      },
      "source": [
        "1) Известно, что генеральная совокупность распределена нормально\n",
        "со средним квадратическим отклонением, равным 16.\n",
        "Найти доверительный интервал для оценки математического ожидания a с надежностью 0.95,\n",
        "если выборочная средняя M = 80, а объем выборки n = 256."
      ]
    },
    {
      "cell_type": "code",
      "metadata": {
        "colab": {
          "base_uri": "https://localhost:8080/"
        },
        "id": "7TI26k3QHQak",
        "outputId": "07c0ca44-d93a-4629-d9cd-3e24d5de6820"
      },
      "source": [
        "std = 16\n",
        "m = 80\n",
        "n = 256\n",
        "# z\n",
        "z = norm.ppf(0.05 / 2)\n",
        "print(f'z = {z}')\n",
        "result = abs(z) * std / math.sqrt(n)\n",
        "print(f'доверительный интервал - [{m - result}, {m + result}]')"
      ],
      "execution_count": 9,
      "outputs": [
        {
          "output_type": "stream",
          "name": "stdout",
          "text": [
            "z = -1.9599639845400545\n",
            "доверительный интервал - [78.04003601545995, 81.95996398454005]\n"
          ]
        }
      ]
    },
    {
      "cell_type": "markdown",
      "metadata": {
        "id": "qC-K7c7QPpYR"
      },
      "source": [
        "2) В результате 10 независимых измерений некоторой величины X, выполненных с одинаковой точностью,\n",
        "получены опытные данные:\n",
        " 6.9, 6.1, 6.2, 6.8, 7.5, 6.3, 6.4, 6.9, 6.7, 6.1\n",
        "Предполагая, что результаты измерений подчинены нормальному закону распределения вероятностей,\n",
        "оценить истинное значение величины X при помощи доверительного интервала, покрывающего это\n",
        "значение с доверительной вероятностью 0,95."
      ]
    },
    {
      "cell_type": "code",
      "metadata": {
        "colab": {
          "base_uri": "https://localhost:8080/"
        },
        "id": "jfIuCU1hPyJ9",
        "outputId": "76047d15-7200-4e69-f293-150da53761b3"
      },
      "source": [
        "List = np.array([6.9, 6.1, 6.2, 6.8, 7.5, 6.3, 6.4, 6.9, 6.7, 6.1])\n",
        "n = List.size\n",
        "L_mean = List.mean()\n",
        "print(L_mean)\n",
        "std = List.std(ddof=1)\n",
        "T = t.ppf(0.05 / 2, n - 1)\n",
        "print(f't = {T}')\n",
        "result = abs(T) * std / math.sqrt(n)\n",
        "print(f'доверительный интервал - [{L_mean - result}, {L_mean + result}]')"
      ],
      "execution_count": 10,
      "outputs": [
        {
          "output_type": "stream",
          "name": "stdout",
          "text": [
            "6.590000000000001\n",
            "t = -2.262157162740992\n",
            "доверительный интервал - [6.267515851415713, 6.912484148584288]\n"
          ]
        }
      ]
    },
    {
      "cell_type": "markdown",
      "metadata": {
        "id": "3GCDdPGkZpQD"
      },
      "source": [
        "3) Утверждается, что шарики для подшипников, изготовленные автоматическим станком, имеют средний диаметр 17 мм.\n",
        "Используя односторонний критерий с α=0,05, проверить эту гипотезу, если в выборке из n=100 шариков средний диаметр\n",
        "оказался равным 17.5 мм, а дисперсия известна и равна 4 кв. мм."
      ]
    },
    {
      "cell_type": "code",
      "metadata": {
        "colab": {
          "base_uri": "https://localhost:8080/"
        },
        "id": "GCq1Ip96Zt1X",
        "outputId": "7e6140d4-16f6-4afd-9899-93bdc5193923"
      },
      "source": [
        "# Нулевая гипотеза: mu_0 = mu_1\n",
        "# Альтернативная гипотеза: mu_0 < mu_1\n",
        "mu_0 = 17\n",
        "mu_1 = 17.5\n",
        "dx = 4\n",
        "n = 100\n",
        "z_0 = abs(norm.ppf(0.05))\n",
        "print(f'z_0 = {z_0}')\n",
        "z_1 = (mu_1 - mu_0) / math.sqrt(dx) / math.sqrt(n)\n",
        "print(f'z_1 = {z_1}')"
      ],
      "execution_count": 11,
      "outputs": [
        {
          "output_type": "stream",
          "name": "stdout",
          "text": [
            "z_0 = 1.6448536269514729\n",
            "z_1 = 0.025\n"
          ]
        }
      ]
    },
    {
      "cell_type": "code",
      "metadata": {
        "colab": {
          "base_uri": "https://localhost:8080/"
        },
        "id": "SgqNHRKnjWbR",
        "outputId": "d77fbcbe-8ebe-4c53-d10c-590f30eafa3d"
      },
      "source": [
        "if z_0 > z_1:\n",
        "  print('Верна нулевая гипотеза')\n",
        "else:\n",
        "  print('Верна альтернативная гипотеза')"
      ],
      "execution_count": 12,
      "outputs": [
        {
          "output_type": "stream",
          "name": "stdout",
          "text": [
            "Верна нулевая гипотеза\n"
          ]
        }
      ]
    },
    {
      "cell_type": "markdown",
      "metadata": {
        "id": "g-1sByVrj5J6"
      },
      "source": [
        "4) Продавец утверждает, что средний вес пачки печенья составляет 200 г.\n",
        "Из партии извлечена выборка из 10 пачек. Вес каждой пачки составляет:\n",
        "202, 203, 199, 197, 195, 201, 200, 204, 194, 190.\n",
        "Известно, что их веса распределены нормально.\n",
        "Верно ли утверждение продавца, если учитывать, что доверительная вероятность равна 99%?"
      ]
    },
    {
      "cell_type": "code",
      "metadata": {
        "colab": {
          "base_uri": "https://localhost:8080/"
        },
        "id": "IFL-Tg5GjXOb",
        "outputId": "9a84effe-aad3-4d53-c77b-469cc917e532"
      },
      "source": [
        "# Нулевая гипотеза: mu_0 = mu_1\n",
        "# Альтернативная гипотеза: mu_0 != mu_1\n",
        "List = np.array([202, 203, 199, 197, 195, 201, 200, 204, 194, 190])\n",
        "mean = List.mean()\n",
        "std = List.std(ddof=1)\n",
        "n = List.size\n",
        "mx = 200\n",
        "t_0 = abs(t.ppf(0.01 / 2, n -1))\n",
        "print(f't_0 = {t_0}')\n",
        "t_1 = abs((mean - mx) / std / math.sqrt(n))\n",
        "print(f't_1 = {t_1}')"
      ],
      "execution_count": 13,
      "outputs": [
        {
          "output_type": "stream",
          "name": "stdout",
          "text": [
            "t_0 = 3.24983554401537\n",
            "t_1 = 0.10651074037450894\n"
          ]
        }
      ]
    },
    {
      "cell_type": "code",
      "metadata": {
        "colab": {
          "base_uri": "https://localhost:8080/"
        },
        "id": "oKWyARgDmRSl",
        "outputId": "c8c1ff59-12f9-4bc3-c233-f3d5868b3dc6"
      },
      "source": [
        "if t_0 > t_1:\n",
        "  print('Верна нулевая гипотеза')\n",
        "else:\n",
        "  print('Верна альтернативная гипотеза')"
      ],
      "execution_count": 14,
      "outputs": [
        {
          "output_type": "stream",
          "name": "stdout",
          "text": [
            "Верна нулевая гипотеза\n"
          ]
        }
      ]
    }
  ]
}