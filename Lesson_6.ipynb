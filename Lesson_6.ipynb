{
  "nbformat": 4,
  "nbformat_minor": 0,
  "metadata": {
    "colab": {
      "name": "Lesson_6.ipynb",
      "provenance": [],
      "collapsed_sections": [],
      "authorship_tag": "ABX9TyM/fWc3dvoRAJxonz94elhQ",
      "include_colab_link": true
    },
    "kernelspec": {
      "name": "python3",
      "display_name": "Python 3"
    },
    "language_info": {
      "name": "python"
    }
  },
  "cells": [
    {
      "cell_type": "markdown",
      "metadata": {
        "id": "view-in-github",
        "colab_type": "text"
      },
      "source": [
        "<a href=\"https://colab.research.google.com/github/VVdovichev/Probability_theory_and_mathematical_statistics/blob/main/Lesson_6.ipynb\" target=\"_parent\"><img src=\"https://colab.research.google.com/assets/colab-badge.svg\" alt=\"Open In Colab\"/></a>"
      ]
    },
    {
      "cell_type": "code",
      "metadata": {
        "id": "wJGqEoojkvjB"
      },
      "source": [
        "import numpy as np\n",
        "from scipy.stats import (t, sem, norm)\n",
        "import math"
      ],
      "execution_count": 35,
      "outputs": []
    },
    {
      "cell_type": "markdown",
      "metadata": {
        "id": "hvfslcS6kb6u"
      },
      "source": [
        "1) Даны значения величины заработной платы заемщиков банка (zp) и значения их поведенческого кредитного скоринга (ks):\n",
        "zp = [35, 45, 190, 200, 40, 70, 54, 150, 120, 110],\n",
        "ks = [401, 574, 874, 919, 459, 739, 653, 902, 746, 832].\n",
        "Найдите ковариацию этих двух величин с помощью элементарных действий, а затем с помощью функции cov из numpy\n",
        "Полученные значения должны быть равны.\n",
        "Найдите коэффициент корреляции Пирсона с помощью ковариации и среднеквадратичных отклонений двух признаков,\n",
        "а затем с использованием функций из библиотек numpy и pandas."
      ]
    },
    {
      "cell_type": "code",
      "metadata": {
        "colab": {
          "base_uri": "https://localhost:8080/"
        },
        "id": "5f_DPwOZj62a",
        "outputId": "a5813070-7b3e-4d11-c135-e3fbd79dad2a"
      },
      "source": [
        "zp = np.array([35, 45, 190, 200, 40, 70, 54, 150, 120, 110])\n",
        "ks = np.array([401, 574, 874, 919, 459, 739, 653, 902, 746, 832])\n",
        "cov = np.mean(zp * ks) - np.mean(zp) * np.mean(ks)\n",
        "print(cov)\n",
        "print(np.cov(ks, zp, ddof=0))"
      ],
      "execution_count": 36,
      "outputs": [
        {
          "output_type": "stream",
          "name": "stdout",
          "text": [
            "9157.839999999997\n",
            "[[30468.89  9157.84]\n",
            " [ 9157.84  3494.64]]\n"
          ]
        }
      ]
    },
    {
      "cell_type": "code",
      "metadata": {
        "colab": {
          "base_uri": "https://localhost:8080/"
        },
        "id": "HcIoG2M-rFdq",
        "outputId": "908bf578-ae7a-45e3-d739-be2ee725d3e8"
      },
      "source": [
        "r = cov / (zp.std() * ks.std())\n",
        "print(r)\n",
        "print(np.corrcoef(ks, zp))"
      ],
      "execution_count": 37,
      "outputs": [
        {
          "output_type": "stream",
          "name": "stdout",
          "text": [
            "0.8874900920739158\n",
            "[[1.         0.88749009]\n",
            " [0.88749009 1.        ]]\n"
          ]
        }
      ]
    },
    {
      "cell_type": "markdown",
      "metadata": {
        "id": "LhkcLfDIsEvF"
      },
      "source": [
        "2) Измерены значения IQ выборки студентов,\n",
        "обучающихся в местных технических вузах:\n",
        "131, 125, 115, 122, 131, 115, 107, 99, 125, 111.\n",
        "Известно, что в генеральной совокупности IQ распределен нормально.\n",
        "Найдите доверительный интервал для математического ожидания с надежностью 0.95."
      ]
    },
    {
      "cell_type": "code",
      "metadata": {
        "colab": {
          "base_uri": "https://localhost:8080/"
        },
        "id": "_XuneBDivb4v",
        "outputId": "169c83a6-2bb9-413a-e627-7e8ff752a298"
      },
      "source": [
        "IQ = np.array([131, 125, 115, 122, 131, 115, 107, 99, 125, 111])\n",
        "t.interval(0.95, n - 1, loc=np.mean(IQ), scale=sem(IQ))"
      ],
      "execution_count": 38,
      "outputs": [
        {
          "output_type": "execute_result",
          "data": {
            "text/plain": [
              "(110.55608365158724, 125.64391634841274)"
            ]
          },
          "metadata": {},
          "execution_count": 38
        }
      ]
    },
    {
      "cell_type": "markdown",
      "metadata": {
        "id": "W1juYH18wS0-"
      },
      "source": [
        "3) Известно, что рост футболистов в сборной распределен нормально\n",
        "с дисперсией генеральной совокупности, равной 25 кв.см. Объем выборки равен 27,\n",
        "среднее выборочное составляет 174.2. Найдите доверительный интервал для математического\n",
        "ожидания с надежностью 0.95."
      ]
    },
    {
      "cell_type": "code",
      "metadata": {
        "colab": {
          "base_uri": "https://localhost:8080/"
        },
        "id": "fV2nMH3GwXRg",
        "outputId": "4c34f2cf-00db-446e-e248-be7bcef87af5"
      },
      "source": [
        "value = 25 ** 0.5 / 27 ** 0.5\n",
        "norm.interval(0.95, loc=174.2, scale=value)"
      ],
      "execution_count": 40,
      "outputs": [
        {
          "output_type": "execute_result",
          "data": {
            "text/plain": [
              "(172.3140237765397, 176.08597622346028)"
            ]
          },
          "metadata": {},
          "execution_count": 40
        }
      ]
    }
  ]
}